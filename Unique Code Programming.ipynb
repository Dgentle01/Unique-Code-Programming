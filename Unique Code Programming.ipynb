{
 "cells": [
  {
   "cell_type": "code",
   "execution_count": 1,
   "id": "05d35afe",
   "metadata": {},
   "outputs": [
    {
     "name": "stdout",
     "output_type": "stream",
     "text": [
      "Enter your name to get a Unique IDSennuga Seyi\n",
      "\n",
      "Sennuga seyi your Unique ID is: 4301031994\n",
      "Code by Gentlegee\n",
      "4301031996\n"
     ]
    }
   ],
   "source": [
    "import random  #imports random numbers\n",
    "owner = \"Gentlegee\"\n",
    "chars = \"abcdefghijklmnopqrstuvwxyz\" #alphas to randomize from\n",
    "name = \" \"   # created an empty name variable \n",
    "while name:    #the while loop\n",
    "    \n",
    "    name = input(\"Enter your name to get a Unique ID\")   #user inputs name\n",
    "    if name.lower() in chars or len(name)> 2:       #if the name is in small letter and in chars or is greater than 2\n",
    "        id = random.randint(1000000000, 9999999999)  #output random alphabets from chars\n",
    "        cap_name = name.capitalize()          #turn the name into capital.\n",
    "        print(f\"\\n{cap_name} your Unique ID is: {id}\")   #print te users name and unique id.\n",
    "        print(\"Code by\" + ' '+ owner)\n",
    "        break          #then break the while loop\n",
    "    else:\n",
    "        print(\"Invalid name!!!\")   #else if the name is lesser than 2 characters print \"invalid name!!!\"\n",
    "        \n",
    "print(id + 2)"
   ]
  },
  {
   "cell_type": "code",
   "execution_count": null,
   "id": "c9611d89",
   "metadata": {
    "scrolled": true
   },
   "outputs": [],
   "source": [
    "\n",
    "# import demoji\n",
    "# text = \"OUT love, smile\"\n",
    "# demoji.findall(text)"
   ]
  },
  {
   "cell_type": "code",
   "execution_count": null,
   "id": "7da7f66e",
   "metadata": {},
   "outputs": [],
   "source": [
    "import random \n",
    "comp_guess = random.randint(1, 100)\n",
    "number_of_attempts = 0\n",
    "while True:\n",
    "    try:\n",
    "        user_guess = int(input(\"Please guess the number \"))   # prompts input from user \n",
    "        if comp_guess == user_guess:    # comp_guess is equal to user_guess?\n",
    "            number_of_attempts = number_of_attempts + 1  # add +1 after user plays one game\n",
    "            print(\"You have just won after\", number_of_attempts,\"number of attempts\")\n",
    "            break   # break if user wins\n",
    "        elif user_guess < comp_guesss:       # if users guess is lower than comp_guess\n",
    "            print(\"Too Low\")\n",
    "            number_of_attempts = number_of_attempts + 1   \n",
    "        else:\n",
    "            print(\"Too High\")      # if users guess is higher than comp_guess\n",
    "            number_of_attempts = number_of_attempts + 1 \n",
    "    except:\n",
    "        print(\"Choose number between 1 to 100.\")  #if user enters non-numerical"
   ]
  },
  {
   "cell_type": "code",
   "execution_count": null,
   "id": "01ee79b7",
   "metadata": {},
   "outputs": [],
   "source": []
  }
 ],
 "metadata": {
  "kernelspec": {
   "display_name": "Python 3 (ipykernel)",
   "language": "python",
   "name": "python3"
  },
  "language_info": {
   "codemirror_mode": {
    "name": "ipython",
    "version": 3
   },
   "file_extension": ".py",
   "mimetype": "text/x-python",
   "name": "python",
   "nbconvert_exporter": "python",
   "pygments_lexer": "ipython3",
   "version": "3.9.12"
  }
 },
 "nbformat": 4,
 "nbformat_minor": 5
}
